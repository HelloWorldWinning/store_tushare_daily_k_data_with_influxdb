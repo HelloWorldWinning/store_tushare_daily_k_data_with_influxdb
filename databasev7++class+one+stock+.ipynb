{
 "cells": [
  {
   "cell_type": "markdown",
   "metadata": {
    "collapsed": true
   },
   "source": [
    "http://blog.csdn.net/pkwind/article/details/51333635\n"
   ]
  },
  {
   "cell_type": "code",
   "execution_count": 1,
   "metadata": {
    "collapsed": false,
    "scrolled": false
   },
   "outputs": [
    {
     "name": "stdout",
     "output_type": "stream",
     "text": [
      "timed out\n",
      "timed out\n",
      "[WinError 10054] 远程主机强迫关闭了一个现有的连接。\n",
      "timed out\n",
      "timed out\n",
      "timed out\n",
      "timed out\n",
      "timed out\n",
      "timed out\n",
      "timed out\n",
      "timed out\n",
      "timed out\n"
     ]
    }
   ],
   "source": [
    "import tushare as ts\n",
    "import pandas as pd\n",
    "from datetime import datetime\n",
    "from influxdb import InfluxDBClient\n",
    "from influxdb import DataFrameClient\n",
    "\n",
    "class Tushare2Influxdb(object):\n",
    "    \n",
    "    def __init__(self):\n",
    "        self.stocks_all=[]\n",
    "        # 2 stocks first\n",
    "        try:\n",
    "            self.stocks_all=[i for i in ts.get_stock_basics().index][1625:]\n",
    "#             self.stocks_all.append('600000')\n",
    "        except:\n",
    "            pass\n",
    "        \n",
    "        self._start_day='1997-01-01'\n",
    "        self._today=datetime.today().strftime('%Y-%m-%d')\n",
    "        self._ktype='D'\n",
    "        self._measurement='stocks_all3'\n",
    "        \n",
    "        \n",
    "    def get_dataframe(self,stock_code):\n",
    "        try:\n",
    "            data_frame=ts.get_k_data(stock_code,self._start_day)\n",
    "            def dataframe2influxdb(dataframe):\n",
    "                dataframe=dataframe.set_index('date')\n",
    "                dataframe.index=pd.to_datetime(dataframe.index)\n",
    "                dataframe['ktype']=self._ktype\n",
    "                return dataframe\n",
    "            return dataframe2influxdb(data_frame)\n",
    "        except:\n",
    "            return False\n",
    "        \n",
    "\n",
    "    def influxdf2db(self,influxdb_df_data):\n",
    "        try:\n",
    "            host='127.0.0.1'\n",
    "            timeout=5\n",
    "            database='tusharev1'\n",
    "            client=DataFrameClient(host=host,timeout=timeout,database=database)\n",
    "            client.create_database('tusharev1')\n",
    "            measurement=self._measurement\n",
    "            tag_columns=[ 'code', 'ktype']\n",
    "            time_precision='s'\n",
    "            protocol='json'\n",
    "            dataframe_to_influxdb=influxdb_df_data\n",
    "            client.write_points(dataframe_to_influxdb,measurement,tag_columns=tag_columns,time_precision=time_precision,protocol=protocol)\n",
    "        except:\n",
    "            pass\n",
    "        \n",
    "    def do_it(self):\n",
    "        for i in self.stocks_all:\n",
    "            temp=self.get_dataframe(i)\n",
    "            if temp.any().any() :\n",
    "                self.influxdf2db(temp)\n",
    "            else :\n",
    "                pass\n",
    "\n",
    "s=Tushare2Influxdb()\n",
    "s.do_it()\n",
    "\n",
    "# host='127.0.0.1'\n",
    "# timeout=5\n",
    "# database='tusharev1'\n",
    "# client=DataFrameClient(host=host,timeout=timeout,database=database)\n",
    "        \n",
    "\n",
    "# d.get(list(d.keys())[0])\n",
    "\n",
    "# x=pd.DataFrame({'a':[1,2],'b':[4,5]})\n",
    "\n",
    "# x.any().any()\n",
    "\n",
    "\n",
    "\n",
    "# s.get_dataframe('600000')"
   ]
  },
  {
   "cell_type": "code",
   "execution_count": 2,
   "metadata": {
    "collapsed": false
   },
   "outputs": [
    {
     "data": {
      "text/plain": [
       "3068"
      ]
     },
     "execution_count": 2,
     "metadata": {},
     "output_type": "execute_result"
    }
   ],
   "source": [
    "client=DataFrameClient(timeout=None,database='tusharev1')\n",
    "\n",
    "n=client.query('SHOW TAG VALUES FROM \"stocks_all3\" WITH KEY = \"code\"')\n",
    "\n",
    "len([i for i in n.get_points()])"
   ]
  },
  {
   "cell_type": "code",
   "execution_count": null,
   "metadata": {
    "collapsed": true
   },
   "outputs": [],
   "source": []
  }
 ],
 "metadata": {
  "anaconda-cloud": {},
  "kernelspec": {
   "display_name": "Python [default]",
   "language": "python",
   "name": "python3"
  },
  "language_info": {
   "codemirror_mode": {
    "name": "ipython",
    "version": 3
   },
   "file_extension": ".py",
   "mimetype": "text/x-python",
   "name": "python",
   "nbconvert_exporter": "python",
   "pygments_lexer": "ipython3",
   "version": "3.5.2"
  }
 },
 "nbformat": 4,
 "nbformat_minor": 1
}
