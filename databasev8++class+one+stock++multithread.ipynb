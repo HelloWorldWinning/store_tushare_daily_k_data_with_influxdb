{
 "cells": [
  {
   "cell_type": "markdown",
   "metadata": {
    "collapsed": true
   },
   "source": [
    "- InfluxDB 入门安装教程 - 博客频道 - CSDN.NET http://t.cn/RS5ZVBJ\n",
    "- python最易用的并发处理--multiprocessing.Pool进程池及ThreadPool线程池 http://t.cn/RS5Z5V9\n",
    "- InfluxDB Python Examples — InfluxDB 4.1.0 documentation http://t.cn/RSz96IA\n",
    "- python进程池multiprocessing.Pool和线程池multiprocessing.dummy.Pool实例 -  http://t.cn/RS5ZOtf\n",
    "- Different Timestamps after uploading pandas Dataframe in InfluxDB · Issue #412 · influxdata/influxdb-python http://t.cn/RS5Zrix\n",
    "- 多线程还是多进程的选择及区别 -   http://t.cn/RPXMTKc\n",
    "- Convert dataframes directly to line protocol during 'write_points()' operation · Issue #363 · influxdata/influxdb-python http://t.cn/RS5y2uK"
   ]
  },
  {
   "cell_type": "code",
   "execution_count": 1,
   "metadata": {
    "collapsed": true
   },
   "outputs": [],
   "source": [
    "import tushare as ts\n",
    "import pandas as pd\n",
    "from datetime import datetime\n",
    "from influxdb import InfluxDBClient\n",
    "from influxdb import DataFrameClient\n",
    "from multiprocessing import Pool  # 进程池\n",
    "from multiprocessing.dummy import Pool as ThreadPool  # 线程池"
   ]
  },
  {
   "cell_type": "code",
   "execution_count": 2,
   "metadata": {
    "collapsed": false,
    "scrolled": false
   },
   "outputs": [],
   "source": [
    "class Tushare2Influxdb(object):\n",
    "    \n",
    "    def __init__(self):\n",
    "        self.stocks_all=[]\n",
    "        # 2 stocks first\n",
    "        try:\n",
    "            self.stocks_all=[i for i in ts.get_stock_basics().index][1596:]\n",
    "#             self.stocks_all.append('600000')\n",
    "        except:\n",
    "            pass\n",
    "        \n",
    "        self._start_day='1997-01-01'\n",
    "        self._today=datetime.today().strftime('%Y-%m-%d')\n",
    "        self._ktype='D'\n",
    "        self._measurement='stocks_all4'\n",
    "        \n",
    "        \n",
    "    def get_dataframe(self,stock_code):\n",
    "        try:\n",
    "            data_frame=ts.get_k_data(stock_code,self._start_day)\n",
    "            def dataframe2influxdb(dataframe):\n",
    "                dataframe=dataframe.set_index('date')\n",
    "                dataframe.index=pd.to_datetime(dataframe.index)\n",
    "                dataframe['ktype']=self._ktype\n",
    "                return dataframe\n",
    "            return dataframe2influxdb(data_frame)\n",
    "        except:\n",
    "            return False\n",
    "        \n",
    "\n",
    "    def influxdf2db(self,influxdb_df_data):\n",
    "        try:\n",
    "            host='127.0.0.1'\n",
    "            timeout=5\n",
    "            database='tusharev1'\n",
    "            client=DataFrameClient(host=host,timeout=timeout,database=database)\n",
    "            client.create_database('tusharev1')\n",
    "            measurement=self._measurement\n",
    "            tag_columns=[ 'code', 'ktype']\n",
    "            time_precision='s'\n",
    "            protocol='json'\n",
    "            batch_size=1000\n",
    "            dataframe_to_influxdb=influxdb_df_data\n",
    "            client.write_points(dataframe_to_influxdb,measurement,tag_columns=tag_columns,time_precision=time_precision,protocol=protocol,batch_size=batch_size)\n",
    "        except:\n",
    "            pass\n",
    "\n",
    "        \n",
    "    def do_it(self):\n",
    "        for i in self.stocks_all:\n",
    "            temp=self.get_dataframe(i)\n",
    "            if temp.any().any() :\n",
    "                self.influxdf2db(temp)\n",
    "            else :\n",
    "                pass\n",
    "            \n",
    "            \n",
    "    def multithread(self,input_function,input_list):\n",
    "        pool = ThreadPool(50)\n",
    "        input_list=input_list\n",
    "        input_function=input_function\n",
    "        results = pool.map(input_function, input_list)\n",
    "        pool.close() \n",
    "        pool.join()\n",
    "        \n",
    "    def do_it_multi(self):\n",
    "        pool = ThreadPool(20)\n",
    "        input_list=self.stocks_all\n",
    "        def hyper_func(stock_code):\n",
    "            try:\n",
    "                return self.influxdf2db(self.get_dataframe(stock_code))\n",
    "            except:\n",
    "                return False\n",
    "        input_function=hyper_func\n",
    "        results = pool.map(hyper_func, input_list)\n",
    "        pool.close() \n",
    "        pool.join()\n",
    "\n",
    "s=Tushare2Influxdb()\n",
    "s.do_it_multi()\n",
    "\n",
    "# host='127.0.0.1'\n",
    "# timeout=5\n",
    "# database='tusharev1'\n",
    "# client=DataFrameClient(host=host,timeout=timeout,database=database)\n",
    "        \n",
    "\n",
    "# d.get(list(d.keys())[0])\n",
    "\n",
    "# x=pd.DataFrame({'a':[1,2],'b':[4,5]})\n",
    "\n",
    "# x.any().any()\n",
    "\n",
    "\n",
    "\n",
    "# s.get_dataframe('600000')"
   ]
  },
  {
   "cell_type": "code",
   "execution_count": null,
   "metadata": {
    "collapsed": true
   },
   "outputs": [],
   "source": []
  },
  {
   "cell_type": "code",
   "execution_count": 3,
   "metadata": {
    "collapsed": false
   },
   "outputs": [],
   "source": [
    "# import time\n",
    "# tic=time.time()\n",
    "# n=7000\n",
    "# def m(x):\n",
    "#     return x**x\n",
    "# for i in range(n):\n",
    "# #     i+=1\n",
    "#     m(i)\n",
    "# print(time.time()-tic)\n"
   ]
  },
  {
   "cell_type": "code",
   "execution_count": 4,
   "metadata": {
    "collapsed": true
   },
   "outputs": [],
   "source": [
    "# def multithread(input_function,input_list):\n",
    "#     pool = ThreadPool(50)\n",
    "#     input_list=input_list\n",
    "#     input_function=input_function\n",
    "#     results = pool.map(input_function, input_list)\n",
    "#     pool.close() \n",
    "#     pool.join() \n",
    "#     results_wanted=[i for i in  results ]\n",
    "#     return results_wanted"
   ]
  },
  {
   "cell_type": "code",
   "execution_count": 5,
   "metadata": {
    "collapsed": false
   },
   "outputs": [],
   "source": [
    "\n",
    "# import time\n",
    "# tic=time.time()\n",
    "# n=7000\n",
    "# def m(x):\n",
    "#     return x**x\n",
    " \n",
    "# with ThreadPool(50) as pool:\n",
    "#     pool.map(m,range(n))\n",
    "     \n",
    "    \n",
    "# print(time.time()-tic)"
   ]
  },
  {
   "cell_type": "code",
   "execution_count": 6,
   "metadata": {
    "collapsed": false
   },
   "outputs": [
    {
     "data": {
      "text/plain": [
       "1594"
      ]
     },
     "execution_count": 6,
     "metadata": {},
     "output_type": "execute_result"
    }
   ],
   "source": [
    "\n",
    "client=DataFrameClient(timeout=None,database='tusharev1')\n",
    "\n",
    "n=client.query('SHOW TAG VALUES FROM \"stocks_all4\" WITH KEY = \"code\"')\n",
    "\n",
    "len([i for i in n.get_points()])"
   ]
  },
  {
   "cell_type": "code",
   "execution_count": null,
   "metadata": {
    "collapsed": true
   },
   "outputs": [],
   "source": []
  }
 ],
 "metadata": {
  "anaconda-cloud": {},
  "kernelspec": {
   "display_name": "Python [default]",
   "language": "python",
   "name": "python3"
  },
  "language_info": {
   "codemirror_mode": {
    "name": "ipython",
    "version": 3
   },
   "file_extension": ".py",
   "mimetype": "text/x-python",
   "name": "python",
   "nbconvert_exporter": "python",
   "pygments_lexer": "ipython3",
   "version": "3.5.2"
  }
 },
 "nbformat": 4,
 "nbformat_minor": 1
}
